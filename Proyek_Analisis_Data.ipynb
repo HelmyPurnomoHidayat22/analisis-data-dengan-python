{
  "cells": [
    {
      "cell_type": "markdown",
      "metadata": {
        "id": "view-in-github",
        "colab_type": "text"
      },
      "source": [
        "<a href=\"https://colab.research.google.com/github/HelmyPurnomoHidayat22/analisis-data-dengan-python/blob/main/Proyek_Analisis_Data.ipynb\" target=\"_parent\"><img src=\"https://colab.research.google.com/assets/colab-badge.svg\" alt=\"Open In Colab\"/></a>"
      ]
    },
    {
      "cell_type": "markdown",
      "metadata": {
        "id": "H9wADwK78DCz"
      },
      "source": [
        "# Proyek Analisis Data: [E-Commerce Public Dataset]\n",
        "- **Nama:** [Helmy Purnomo Hidayat]\n",
        "- **Email:** [helmypurnomo234@gmail.com]\n",
        "- **ID Dicoding:** [Helmy Purnomo Hidayat]"
      ]
    },
    {
      "cell_type": "markdown",
      "metadata": {
        "id": "eE0raob58DC0"
      },
      "source": [
        "## Menentukan Pertanyaan Bisnis"
      ]
    },
    {
      "cell_type": "markdown",
      "metadata": {
        "id": "GmQeQ5YF8DC0"
      },
      "source": [
        "- Bagaimana tren penjualan harian selama periode yang dipilih?\n",
        "- Apa metode pembayaran yang paling populer dan bagaimana distribusinya?"
      ]
    },
    {
      "cell_type": "markdown",
      "metadata": {
        "id": "H-z4QGlO8DC1"
      },
      "source": [
        "## Import Semua Packages/Library yang Digunakan"
      ]
    },
    {
      "cell_type": "code",
      "execution_count": null,
      "metadata": {
        "id": "FVYwaObI8DC1",
        "colab": {
          "base_uri": "https://localhost:8080/"
        },
        "outputId": "3a30a5d2-e736-411e-b9c0-3b0ef4d3c92a"
      },
      "outputs": [
        {
          "output_type": "stream",
          "name": "stdout",
          "text": [
            "Requirement already satisfied: streamlit in /usr/local/lib/python3.10/dist-packages (1.39.0)\n",
            "Requirement already satisfied: altair<6,>=4.0 in /usr/local/lib/python3.10/dist-packages (from streamlit) (4.2.2)\n",
            "Requirement already satisfied: blinker<2,>=1.0.0 in /usr/lib/python3/dist-packages (from streamlit) (1.4)\n",
            "Requirement already satisfied: cachetools<6,>=4.0 in /usr/local/lib/python3.10/dist-packages (from streamlit) (5.5.0)\n",
            "Requirement already satisfied: click<9,>=7.0 in /usr/local/lib/python3.10/dist-packages (from streamlit) (8.1.7)\n",
            "Requirement already satisfied: numpy<3,>=1.20 in /usr/local/lib/python3.10/dist-packages (from streamlit) (1.26.4)\n",
            "Requirement already satisfied: packaging<25,>=20 in /usr/local/lib/python3.10/dist-packages (from streamlit) (24.1)\n",
            "Requirement already satisfied: pandas<3,>=1.4.0 in /usr/local/lib/python3.10/dist-packages (from streamlit) (2.2.2)\n",
            "Requirement already satisfied: pillow<11,>=7.1.0 in /usr/local/lib/python3.10/dist-packages (from streamlit) (10.4.0)\n",
            "Requirement already satisfied: protobuf<6,>=3.20 in /usr/local/lib/python3.10/dist-packages (from streamlit) (3.20.3)\n",
            "Requirement already satisfied: pyarrow>=7.0 in /usr/local/lib/python3.10/dist-packages (from streamlit) (16.1.0)\n",
            "Requirement already satisfied: requests<3,>=2.27 in /usr/local/lib/python3.10/dist-packages (from streamlit) (2.32.3)\n",
            "Requirement already satisfied: rich<14,>=10.14.0 in /usr/local/lib/python3.10/dist-packages (from streamlit) (13.9.1)\n",
            "Requirement already satisfied: tenacity<10,>=8.1.0 in /usr/local/lib/python3.10/dist-packages (from streamlit) (9.0.0)\n",
            "Requirement already satisfied: toml<2,>=0.10.1 in /usr/local/lib/python3.10/dist-packages (from streamlit) (0.10.2)\n",
            "Requirement already satisfied: typing-extensions<5,>=4.3.0 in /usr/local/lib/python3.10/dist-packages (from streamlit) (4.12.2)\n",
            "Requirement already satisfied: gitpython!=3.1.19,<4,>=3.0.7 in /usr/local/lib/python3.10/dist-packages (from streamlit) (3.1.43)\n",
            "Requirement already satisfied: pydeck<1,>=0.8.0b4 in /usr/local/lib/python3.10/dist-packages (from streamlit) (0.9.1)\n",
            "Requirement already satisfied: tornado<7,>=6.0.3 in /usr/local/lib/python3.10/dist-packages (from streamlit) (6.3.3)\n",
            "Requirement already satisfied: watchdog<6,>=2.1.5 in /usr/local/lib/python3.10/dist-packages (from streamlit) (5.0.3)\n",
            "Requirement already satisfied: entrypoints in /usr/local/lib/python3.10/dist-packages (from altair<6,>=4.0->streamlit) (0.4)\n",
            "Requirement already satisfied: jinja2 in /usr/local/lib/python3.10/dist-packages (from altair<6,>=4.0->streamlit) (3.1.4)\n",
            "Requirement already satisfied: jsonschema>=3.0 in /usr/local/lib/python3.10/dist-packages (from altair<6,>=4.0->streamlit) (4.23.0)\n",
            "Requirement already satisfied: toolz in /usr/local/lib/python3.10/dist-packages (from altair<6,>=4.0->streamlit) (0.12.1)\n",
            "Requirement already satisfied: gitdb<5,>=4.0.1 in /usr/local/lib/python3.10/dist-packages (from gitpython!=3.1.19,<4,>=3.0.7->streamlit) (4.0.11)\n",
            "Requirement already satisfied: python-dateutil>=2.8.2 in /usr/local/lib/python3.10/dist-packages (from pandas<3,>=1.4.0->streamlit) (2.8.2)\n",
            "Requirement already satisfied: pytz>=2020.1 in /usr/local/lib/python3.10/dist-packages (from pandas<3,>=1.4.0->streamlit) (2024.2)\n",
            "Requirement already satisfied: tzdata>=2022.7 in /usr/local/lib/python3.10/dist-packages (from pandas<3,>=1.4.0->streamlit) (2024.2)\n",
            "Requirement already satisfied: charset-normalizer<4,>=2 in /usr/local/lib/python3.10/dist-packages (from requests<3,>=2.27->streamlit) (3.3.2)\n",
            "Requirement already satisfied: idna<4,>=2.5 in /usr/local/lib/python3.10/dist-packages (from requests<3,>=2.27->streamlit) (3.10)\n",
            "Requirement already satisfied: urllib3<3,>=1.21.1 in /usr/local/lib/python3.10/dist-packages (from requests<3,>=2.27->streamlit) (2.2.3)\n",
            "Requirement already satisfied: certifi>=2017.4.17 in /usr/local/lib/python3.10/dist-packages (from requests<3,>=2.27->streamlit) (2024.8.30)\n",
            "Requirement already satisfied: markdown-it-py>=2.2.0 in /usr/local/lib/python3.10/dist-packages (from rich<14,>=10.14.0->streamlit) (3.0.0)\n",
            "Requirement already satisfied: pygments<3.0.0,>=2.13.0 in /usr/local/lib/python3.10/dist-packages (from rich<14,>=10.14.0->streamlit) (2.18.0)\n",
            "Requirement already satisfied: smmap<6,>=3.0.1 in /usr/local/lib/python3.10/dist-packages (from gitdb<5,>=4.0.1->gitpython!=3.1.19,<4,>=3.0.7->streamlit) (5.0.1)\n",
            "Requirement already satisfied: MarkupSafe>=2.0 in /usr/local/lib/python3.10/dist-packages (from jinja2->altair<6,>=4.0->streamlit) (2.1.5)\n",
            "Requirement already satisfied: attrs>=22.2.0 in /usr/local/lib/python3.10/dist-packages (from jsonschema>=3.0->altair<6,>=4.0->streamlit) (24.2.0)\n",
            "Requirement already satisfied: jsonschema-specifications>=2023.03.6 in /usr/local/lib/python3.10/dist-packages (from jsonschema>=3.0->altair<6,>=4.0->streamlit) (2023.12.1)\n",
            "Requirement already satisfied: referencing>=0.28.4 in /usr/local/lib/python3.10/dist-packages (from jsonschema>=3.0->altair<6,>=4.0->streamlit) (0.35.1)\n",
            "Requirement already satisfied: rpds-py>=0.7.1 in /usr/local/lib/python3.10/dist-packages (from jsonschema>=3.0->altair<6,>=4.0->streamlit) (0.20.0)\n",
            "Requirement already satisfied: mdurl~=0.1 in /usr/local/lib/python3.10/dist-packages (from markdown-it-py>=2.2.0->rich<14,>=10.14.0->streamlit) (0.1.2)\n",
            "Requirement already satisfied: six>=1.5 in /usr/local/lib/python3.10/dist-packages (from python-dateutil>=2.8.2->pandas<3,>=1.4.0->streamlit) (1.16.0)\n"
          ]
        }
      ],
      "source": [
        "!pip install streamlit # install the streamlit package\n",
        "import streamlit as st\n",
        "import pandas as pd\n",
        "import matplotlib.pyplot as plt\n",
        "import seaborn as sns\n",
        "import numpy as np\n",
        "from datetime import datetime\n",
        "import requests\n",
        "import io\n",
        "\n"
      ]
    },
    {
      "cell_type": "markdown",
      "metadata": {
        "id": "h_Sh51Xy8DC1"
      },
      "source": [
        "## Data Wrangling"
      ]
    },
    {
      "cell_type": "markdown",
      "source": [
        "menggabungkan data dari beberapa sumber sehingga siap untuk analisis."
      ],
      "metadata": {
        "id": "bVQ-6P4haxT7"
      }
    },
    {
      "cell_type": "markdown",
      "metadata": {
        "id": "sXU2GBYu8DC1"
      },
      "source": [
        "### Gathering Data"
      ]
    },
    {
      "cell_type": "code",
      "execution_count": null,
      "metadata": {
        "id": "zjCBk1BI8DC1",
        "colab": {
          "base_uri": "https://localhost:8080/"
        },
        "outputId": "c9f1e948-4b6a-4749-943d-ed52421efe75"
      },
      "outputs": [
        {
          "output_type": "stream",
          "name": "stdout",
          "text": [
            "Data Customers:\n",
            "                         customer_id                customer_unique_id  \\\n",
            "0  06b8999e2fba1a1fbc88172c00ba8bc7  861eff4711a542e4b93843c6dd7febb0   \n",
            "1  18955e83d337fd6b2def6b18a428ac77  290c77bc529b7ac935b93aa66c333dc3   \n",
            "2  4e7b3e00288586ebd08712fdd0374a03  060e732b5b29e8181a18229c7b0b2b5e   \n",
            "3  b2b6027bc5c5109e529d4dc6358b12c3  259dac757896d24d7702b9acbbff3f3c   \n",
            "4  4f2d8ab171c80ec8364f7c12e35b23ad  345ecd01c38d18a9036ed96c73b8d066   \n",
            "\n",
            "   customer_zip_code_prefix          customer_city customer_state  \n",
            "0                     14409                 franca             SP  \n",
            "1                      9790  sao bernardo do campo             SP  \n",
            "2                      1151              sao paulo             SP  \n",
            "3                      8775        mogi das cruzes             SP  \n",
            "4                     13056               campinas             SP  \n",
            "Data Orders:\n",
            "                            order_id                       customer_id  \\\n",
            "0  e481f51cbdc54678b7cc49136f2d6af7  9ef432eb6251297304e76186b10a928d   \n",
            "1  53cdb2fc8bc7dce0b6741e2150273451  b0830fb4747a6c6d20dea0b8c802d7ef   \n",
            "2  47770eb9100c2d0c44946d9cf07ec65d  41ce2a54c0b03bf3443c3d931a367089   \n",
            "3  949d5b44dbf5de918fe9c16f97b45f8a  f88197465ea7920adcdbec7375364d82   \n",
            "4  ad21c59c0840e6cb83a9ceb5573f8159  8ab97904e6daea8866dbdbc4fb7aad2c   \n",
            "\n",
            "  order_status order_purchase_timestamp    order_approved_at  \\\n",
            "0    delivered      2017-10-02 10:56:33  2017-10-02 11:07:15   \n",
            "1    delivered      2018-07-24 20:41:37  2018-07-26 03:24:27   \n",
            "2    delivered      2018-08-08 08:38:49  2018-08-08 08:55:23   \n",
            "3    delivered      2017-11-18 19:28:06  2017-11-18 19:45:59   \n",
            "4    delivered      2018-02-13 21:18:39  2018-02-13 22:20:29   \n",
            "\n",
            "  order_delivered_carrier_date order_delivered_customer_date  \\\n",
            "0          2017-10-04 19:55:00           2017-10-10 21:25:13   \n",
            "1          2018-07-26 14:31:00           2018-08-07 15:27:45   \n",
            "2          2018-08-08 13:50:00           2018-08-17 18:06:29   \n",
            "3          2017-11-22 13:39:59           2017-12-02 00:28:42   \n",
            "4          2018-02-14 19:46:34           2018-02-16 18:17:02   \n",
            "\n",
            "  order_estimated_delivery_date  \n",
            "0           2017-10-18 00:00:00  \n",
            "1           2018-08-13 00:00:00  \n",
            "2           2018-09-04 00:00:00  \n",
            "3           2017-12-15 00:00:00  \n",
            "4           2018-02-26 00:00:00  \n",
            "Data Payments:\n",
            "                            order_id  payment_sequential payment_type  \\\n",
            "0  b81ef226f3fe1789b1e8b2acac839d17                   1  credit_card   \n",
            "1  a9810da82917af2d9aefd1278f1dcfa0                   1  credit_card   \n",
            "2  25e8ea4e93396b6fa0d3dd708e76c1bd                   1  credit_card   \n",
            "3  ba78997921bbcdc1373bb41e913ab953                   1  credit_card   \n",
            "4  42fdf880ba16b47b59251dd489d4441a                   1  credit_card   \n",
            "\n",
            "   payment_installments  payment_value  \n",
            "0                     8          99.33  \n",
            "1                     1          24.39  \n",
            "2                     1          65.71  \n",
            "3                     8         107.78  \n",
            "4                     2         128.45  \n"
          ]
        }
      ],
      "source": [
        "# Fungsi untuk memuat data dari GitHub\n",
        "def load_data_from_github(url):\n",
        "    download = requests.get(url).content\n",
        "    df = pd.read_csv(io.StringIO(download.decode('utf-8')))\n",
        "    return df\n",
        "\n",
        "# Memuat data dari GitHub dan memeriksa isi data\n",
        "customers = load_data_from_github('https://raw.githubusercontent.com/HelmyPurnomoHidayat22/analisis-data-dengan-python/main/dashboard/data/olist_customers_dataset.csv')\n",
        "orders = load_data_from_github('https://raw.githubusercontent.com/HelmyPurnomoHidayat22/analisis-data-dengan-python/main/dashboard/data/olist_orders_dataset.csv')\n",
        "payments = load_data_from_github('https://raw.githubusercontent.com/HelmyPurnomoHidayat22/analisis-data-dengan-python/main/dashboard/data/olist_order_payments_dataset.csv')\n",
        "\n",
        "# Print dataset untuk memastikan data sudah diambil\n",
        "print(\"Data Customers:\\n\", customers.head())  # Menampilkan 5 data pertama dari customers\n",
        "print(\"Data Orders:\\n\", orders.head())        # Menampilkan 5 data pertama dari orders\n",
        "print(\"Data Payments:\\n\", payments.head())    # Menampilkan 5 data pertama dari payments\n"
      ]
    },
    {
      "cell_type": "markdown",
      "source": [
        "###Dataset yang digunakan"
      ],
      "metadata": {
        "id": "5gnJRAsrSooT"
      }
    },
    {
      "cell_type": "markdown",
      "source": [
        "- customers: Data tentang pelanggan.\n",
        "- orders: Data tentang pesanan.\n",
        "- payments: Data tentang pembayaran.\n",
        "- Dataset ini digabungkan berdasarkan customer_id dan order_id."
      ],
      "metadata": {
        "id": "kqNJ-SFkbFhG"
      }
    },
    {
      "cell_type": "markdown",
      "source": [
        "**Insight:**\n",
        "- Dataset dari URL ini digunakan untuk menganalisis tren penjualan dan metode pembayaran dalam platform e-commerce.\n",
        "- Data diambil dari tiga file CSV yang berisi informasi pelanggan, pesanan, dan pembayaran."
      ],
      "metadata": {
        "id": "MMi6xGaDkbCi"
      }
    },
    {
      "cell_type": "markdown",
      "metadata": {
        "id": "FHSiqaZp8DC1"
      },
      "source": [
        "### Assessing Data"
      ]
    },
    {
      "cell_type": "code",
      "source": [
        "# Memuat data\n",
        "customers = load_data_from_github(customers_url)\n",
        "orders = load_data_from_github(orders_url)\n",
        "payments = load_data_from_github(payments_url)\n",
        "\n",
        "# Print dataset untuk memastikan data sudah diambil\n",
        "print(\"Data Customers:\\n\", customers.head())\n",
        "print(\"Data Orders:\\n\", orders.head())\n",
        "print(\"Data Payments:\\n\", payments.head())\n",
        "\n",
        "# Menggabungkan dataset\n",
        "try:\n",
        "    # Pastikan kolom 'customer_id' dan 'order_id' ada\n",
        "    if 'customer_id' in customers.columns and 'order_id' in orders.columns and 'order_id' in payments.columns:\n",
        "        merged_data = pd.merge(customers, orders, on='customer_id')\n",
        "        merged_data = pd.merge(merged_data, payments, on='order_id')\n",
        "\n",
        "        # Print beberapa baris dari data gabungan untuk memastikan penggabungan berhasil\n",
        "        print(\"Data Gabungan:\\n\", merged_data.head())\n",
        "\n",
        "        # Cek dan tampilkan jumlah duplikat\n",
        "        print(f\"Jumlah duplikat dalam data: {merged_data.duplicated().sum()}\")\n",
        "    else:\n",
        "        print(\"Kolom 'customer_id' atau 'order_id' tidak ditemukan di salah satu dataset.\")\n",
        "except Exception as e:\n",
        "    print(f\"Terjadi kesalahan saat menggabungkan data: {str(e)}\")"
      ],
      "metadata": {
        "id": "ax-3tEjc9Cj1",
        "colab": {
          "base_uri": "https://localhost:8080/"
        },
        "outputId": "d77e82a9-e3a3-43b9-dcaf-d14a8adb108f"
      },
      "execution_count": null,
      "outputs": [
        {
          "output_type": "stream",
          "name": "stdout",
          "text": [
            "Data Customers:\n",
            "                         customer_id                customer_unique_id  \\\n",
            "0  06b8999e2fba1a1fbc88172c00ba8bc7  861eff4711a542e4b93843c6dd7febb0   \n",
            "1  18955e83d337fd6b2def6b18a428ac77  290c77bc529b7ac935b93aa66c333dc3   \n",
            "2  4e7b3e00288586ebd08712fdd0374a03  060e732b5b29e8181a18229c7b0b2b5e   \n",
            "3  b2b6027bc5c5109e529d4dc6358b12c3  259dac757896d24d7702b9acbbff3f3c   \n",
            "4  4f2d8ab171c80ec8364f7c12e35b23ad  345ecd01c38d18a9036ed96c73b8d066   \n",
            "\n",
            "   customer_zip_code_prefix          customer_city customer_state  \n",
            "0                     14409                 franca             SP  \n",
            "1                      9790  sao bernardo do campo             SP  \n",
            "2                      1151              sao paulo             SP  \n",
            "3                      8775        mogi das cruzes             SP  \n",
            "4                     13056               campinas             SP  \n",
            "Data Orders:\n",
            "                            order_id                       customer_id  \\\n",
            "0  e481f51cbdc54678b7cc49136f2d6af7  9ef432eb6251297304e76186b10a928d   \n",
            "1  53cdb2fc8bc7dce0b6741e2150273451  b0830fb4747a6c6d20dea0b8c802d7ef   \n",
            "2  47770eb9100c2d0c44946d9cf07ec65d  41ce2a54c0b03bf3443c3d931a367089   \n",
            "3  949d5b44dbf5de918fe9c16f97b45f8a  f88197465ea7920adcdbec7375364d82   \n",
            "4  ad21c59c0840e6cb83a9ceb5573f8159  8ab97904e6daea8866dbdbc4fb7aad2c   \n",
            "\n",
            "  order_status order_purchase_timestamp    order_approved_at  \\\n",
            "0    delivered      2017-10-02 10:56:33  2017-10-02 11:07:15   \n",
            "1    delivered      2018-07-24 20:41:37  2018-07-26 03:24:27   \n",
            "2    delivered      2018-08-08 08:38:49  2018-08-08 08:55:23   \n",
            "3    delivered      2017-11-18 19:28:06  2017-11-18 19:45:59   \n",
            "4    delivered      2018-02-13 21:18:39  2018-02-13 22:20:29   \n",
            "\n",
            "  order_delivered_carrier_date order_delivered_customer_date  \\\n",
            "0          2017-10-04 19:55:00           2017-10-10 21:25:13   \n",
            "1          2018-07-26 14:31:00           2018-08-07 15:27:45   \n",
            "2          2018-08-08 13:50:00           2018-08-17 18:06:29   \n",
            "3          2017-11-22 13:39:59           2017-12-02 00:28:42   \n",
            "4          2018-02-14 19:46:34           2018-02-16 18:17:02   \n",
            "\n",
            "  order_estimated_delivery_date  \n",
            "0           2017-10-18 00:00:00  \n",
            "1           2018-08-13 00:00:00  \n",
            "2           2018-09-04 00:00:00  \n",
            "3           2017-12-15 00:00:00  \n",
            "4           2018-02-26 00:00:00  \n",
            "Data Payments:\n",
            "                            order_id  payment_sequential payment_type  \\\n",
            "0  b81ef226f3fe1789b1e8b2acac839d17                   1  credit_card   \n",
            "1  a9810da82917af2d9aefd1278f1dcfa0                   1  credit_card   \n",
            "2  25e8ea4e93396b6fa0d3dd708e76c1bd                   1  credit_card   \n",
            "3  ba78997921bbcdc1373bb41e913ab953                   1  credit_card   \n",
            "4  42fdf880ba16b47b59251dd489d4441a                   1  credit_card   \n",
            "\n",
            "   payment_installments  payment_value  \n",
            "0                     8          99.33  \n",
            "1                     1          24.39  \n",
            "2                     1          65.71  \n",
            "3                     8         107.78  \n",
            "4                     2         128.45  \n",
            "Data Gabungan:\n",
            "                         customer_id                customer_unique_id  \\\n",
            "0  06b8999e2fba1a1fbc88172c00ba8bc7  861eff4711a542e4b93843c6dd7febb0   \n",
            "1  18955e83d337fd6b2def6b18a428ac77  290c77bc529b7ac935b93aa66c333dc3   \n",
            "2  4e7b3e00288586ebd08712fdd0374a03  060e732b5b29e8181a18229c7b0b2b5e   \n",
            "3  b2b6027bc5c5109e529d4dc6358b12c3  259dac757896d24d7702b9acbbff3f3c   \n",
            "4  4f2d8ab171c80ec8364f7c12e35b23ad  345ecd01c38d18a9036ed96c73b8d066   \n",
            "\n",
            "   customer_zip_code_prefix          customer_city customer_state  \\\n",
            "0                     14409                 franca             SP   \n",
            "1                      9790  sao bernardo do campo             SP   \n",
            "2                      1151              sao paulo             SP   \n",
            "3                      8775        mogi das cruzes             SP   \n",
            "4                     13056               campinas             SP   \n",
            "\n",
            "                           order_id order_status order_purchase_timestamp  \\\n",
            "0  00e7ee1b050b8499577073aeb2a297a1    delivered      2017-05-16 15:05:35   \n",
            "1  29150127e6685892b6eab3eec79f59c7    delivered      2018-01-12 20:48:24   \n",
            "2  b2059ed67ce144a36e2aa97d2c9e9ad2    delivered      2018-05-19 16:07:45   \n",
            "3  951670f92359f4fe4a63112aa7306eba    delivered      2018-03-13 16:06:38   \n",
            "4  6b7d50bd145f6fc7f33cebabd7e49d0f    delivered      2018-07-29 09:51:30   \n",
            "\n",
            "     order_approved_at order_delivered_carrier_date  \\\n",
            "0  2017-05-16 15:22:12          2017-05-23 10:47:57   \n",
            "1  2018-01-12 20:58:32          2018-01-15 17:14:59   \n",
            "2  2018-05-20 16:19:10          2018-06-11 14:31:00   \n",
            "3  2018-03-13 17:29:19          2018-03-27 23:22:42   \n",
            "4  2018-07-29 10:10:09          2018-07-30 15:16:00   \n",
            "\n",
            "  order_delivered_customer_date order_estimated_delivery_date  \\\n",
            "0           2017-05-25 10:35:35           2017-06-05 00:00:00   \n",
            "1           2018-01-29 12:41:19           2018-02-06 00:00:00   \n",
            "2           2018-06-14 17:58:51           2018-06-13 00:00:00   \n",
            "3           2018-03-28 16:04:25           2018-04-10 00:00:00   \n",
            "4           2018-08-09 20:55:48           2018-08-15 00:00:00   \n",
            "\n",
            "   payment_sequential payment_type  payment_installments  payment_value  \n",
            "0                   1  credit_card                     2         146.87  \n",
            "1                   1  credit_card                     8         335.48  \n",
            "2                   1  credit_card                     7         157.73  \n",
            "3                   1  credit_card                     1         173.30  \n",
            "4                   1  credit_card                     8         252.25  \n",
            "Jumlah duplikat dalam data: 0\n"
          ]
        }
      ]
    },
    {
      "cell_type": "markdown",
      "source": [
        "**Insight:**\n",
        "- Data telah dibersihkan dengan menghapus missing values dan duplikat.\n",
        "- Outlier pada kolom payment_value dihapus menggunakan Interquartile Range (IQR).\n",
        "- Kolom tanggal pesanan (order_purchase_timestamp) dikonversi ke format datetime untuk memudahkan analisis berbasis waktu."
      ],
      "metadata": {
        "id": "7dtxhAPrkhPL"
      }
    },
    {
      "cell_type": "markdown",
      "source": [
        "### Missing Value\n"
      ],
      "metadata": {
        "id": "nFjNSrpGgPuG"
      }
    },
    {
      "cell_type": "code",
      "source": [
        "# Memuat data\n",
        "customers = load_data_from_github(customers_url)\n",
        "orders = load_data_from_github(orders_url)\n",
        "payments = load_data_from_github(payments_url)\n",
        "\n",
        "# Fungsi untuk menampilkan data dalam bentuk tabel kotak-kotak\n",
        "def print_table(dataframe, title):\n",
        "    print(f\"\\n{title}\\n\")\n",
        "    print(tabulate(dataframe.head(), headers='keys', tablefmt='grid', showindex=False))\n",
        "\n",
        "# Print dataset untuk memastikan data sudah diambil\n",
        "print_table(customers, \"Data Customers\")\n",
        "print_table(orders, \"Data Orders\")\n",
        "print_table(payments, \"Data Payments\")\n",
        "\n",
        "# Menggabungkan dataset\n",
        "try:\n",
        "    # Pastikan kolom 'customer_id' dan 'order_id' ada\n",
        "    if 'customer_id' in customers.columns and 'order_id' in orders.columns and 'order_id' in payments.columns:\n",
        "        merged_data = pd.merge(customers, orders, on='customer_id')\n",
        "        merged_data = pd.merge(merged_data, payments, on='order_id')\n",
        "\n",
        "        # Print beberapa baris dari data gabungan untuk memastikan penggabungan berhasil\n",
        "        print_table(merged_data, \"Data Gabungan Sebelum Pembersihan\")\n",
        "\n",
        "        # Cek dan tampilkan jumlah duplikat\n",
        "        print(f\"\\nJumlah duplikat dalam data: {merged_data.duplicated().sum()}\")\n",
        "\n",
        "        # Menangani missing values\n",
        "        missing_values_count = merged_data.isnull().sum().sum()\n",
        "        print(f\"\\nJumlah missing values sebelum pembersihan: {missing_values_count}\")\n",
        "\n",
        "        # Menghapus missing values\n",
        "        merged_data = merged_data.dropna()\n",
        "\n",
        "        # Print setelah menghapus missing values\n",
        "        print_table(merged_data, \"Data Gabungan Setelah Pembersihan\")\n",
        "\n",
        "        # Cek jumlah missing values setelah pembersihan\n",
        "        missing_values_count_after = merged_data.isnull().sum().sum()\n",
        "        print(f\"\\nJumlah missing values setelah pembersihan: {missing_values_count_after}\")\n",
        "    else:\n",
        "        print(\"Kolom 'customer_id' atau 'order_id' tidak ditemukan di salah satu dataset.\")\n",
        "except Exception as e:\n",
        "    print(f\"Terjadi kesalahan saat menggabungkan data: {str(e)}\")\n"
      ],
      "metadata": {
        "id": "voOf1W5mTD2u",
        "colab": {
          "base_uri": "https://localhost:8080/"
        },
        "outputId": "a1119bee-2a9a-481d-d2ef-793e4f13e51f"
      },
      "execution_count": null,
      "outputs": [
        {
          "output_type": "stream",
          "name": "stdout",
          "text": [
            "\n",
            "Data Customers\n",
            "\n",
            "+----------------------------------+----------------------------------+----------------------------+-----------------------+------------------+\n",
            "| customer_id                      | customer_unique_id               |   customer_zip_code_prefix | customer_city         | customer_state   |\n",
            "+==================================+==================================+============================+=======================+==================+\n",
            "| 06b8999e2fba1a1fbc88172c00ba8bc7 | 861eff4711a542e4b93843c6dd7febb0 |                      14409 | franca                | SP               |\n",
            "+----------------------------------+----------------------------------+----------------------------+-----------------------+------------------+\n",
            "| 18955e83d337fd6b2def6b18a428ac77 | 290c77bc529b7ac935b93aa66c333dc3 |                       9790 | sao bernardo do campo | SP               |\n",
            "+----------------------------------+----------------------------------+----------------------------+-----------------------+------------------+\n",
            "| 4e7b3e00288586ebd08712fdd0374a03 | 060e732b5b29e8181a18229c7b0b2b5e |                       1151 | sao paulo             | SP               |\n",
            "+----------------------------------+----------------------------------+----------------------------+-----------------------+------------------+\n",
            "| b2b6027bc5c5109e529d4dc6358b12c3 | 259dac757896d24d7702b9acbbff3f3c |                       8775 | mogi das cruzes       | SP               |\n",
            "+----------------------------------+----------------------------------+----------------------------+-----------------------+------------------+\n",
            "| 4f2d8ab171c80ec8364f7c12e35b23ad | 345ecd01c38d18a9036ed96c73b8d066 |                      13056 | campinas              | SP               |\n",
            "+----------------------------------+----------------------------------+----------------------------+-----------------------+------------------+\n",
            "\n",
            "Data Orders\n",
            "\n",
            "+----------------------------------+----------------------------------+----------------+----------------------------+---------------------+--------------------------------+---------------------------------+---------------------------------+\n",
            "| order_id                         | customer_id                      | order_status   | order_purchase_timestamp   | order_approved_at   | order_delivered_carrier_date   | order_delivered_customer_date   | order_estimated_delivery_date   |\n",
            "+==================================+==================================+================+============================+=====================+================================+=================================+=================================+\n",
            "| e481f51cbdc54678b7cc49136f2d6af7 | 9ef432eb6251297304e76186b10a928d | delivered      | 2017-10-02 10:56:33        | 2017-10-02 11:07:15 | 2017-10-04 19:55:00            | 2017-10-10 21:25:13             | 2017-10-18 00:00:00             |\n",
            "+----------------------------------+----------------------------------+----------------+----------------------------+---------------------+--------------------------------+---------------------------------+---------------------------------+\n",
            "| 53cdb2fc8bc7dce0b6741e2150273451 | b0830fb4747a6c6d20dea0b8c802d7ef | delivered      | 2018-07-24 20:41:37        | 2018-07-26 03:24:27 | 2018-07-26 14:31:00            | 2018-08-07 15:27:45             | 2018-08-13 00:00:00             |\n",
            "+----------------------------------+----------------------------------+----------------+----------------------------+---------------------+--------------------------------+---------------------------------+---------------------------------+\n",
            "| 47770eb9100c2d0c44946d9cf07ec65d | 41ce2a54c0b03bf3443c3d931a367089 | delivered      | 2018-08-08 08:38:49        | 2018-08-08 08:55:23 | 2018-08-08 13:50:00            | 2018-08-17 18:06:29             | 2018-09-04 00:00:00             |\n",
            "+----------------------------------+----------------------------------+----------------+----------------------------+---------------------+--------------------------------+---------------------------------+---------------------------------+\n",
            "| 949d5b44dbf5de918fe9c16f97b45f8a | f88197465ea7920adcdbec7375364d82 | delivered      | 2017-11-18 19:28:06        | 2017-11-18 19:45:59 | 2017-11-22 13:39:59            | 2017-12-02 00:28:42             | 2017-12-15 00:00:00             |\n",
            "+----------------------------------+----------------------------------+----------------+----------------------------+---------------------+--------------------------------+---------------------------------+---------------------------------+\n",
            "| ad21c59c0840e6cb83a9ceb5573f8159 | 8ab97904e6daea8866dbdbc4fb7aad2c | delivered      | 2018-02-13 21:18:39        | 2018-02-13 22:20:29 | 2018-02-14 19:46:34            | 2018-02-16 18:17:02             | 2018-02-26 00:00:00             |\n",
            "+----------------------------------+----------------------------------+----------------+----------------------------+---------------------+--------------------------------+---------------------------------+---------------------------------+\n",
            "\n",
            "Data Payments\n",
            "\n",
            "+----------------------------------+----------------------+----------------+------------------------+-----------------+\n",
            "| order_id                         |   payment_sequential | payment_type   |   payment_installments |   payment_value |\n",
            "+==================================+======================+================+========================+=================+\n",
            "| b81ef226f3fe1789b1e8b2acac839d17 |                    1 | credit_card    |                      8 |           99.33 |\n",
            "+----------------------------------+----------------------+----------------+------------------------+-----------------+\n",
            "| a9810da82917af2d9aefd1278f1dcfa0 |                    1 | credit_card    |                      1 |           24.39 |\n",
            "+----------------------------------+----------------------+----------------+------------------------+-----------------+\n",
            "| 25e8ea4e93396b6fa0d3dd708e76c1bd |                    1 | credit_card    |                      1 |           65.71 |\n",
            "+----------------------------------+----------------------+----------------+------------------------+-----------------+\n",
            "| ba78997921bbcdc1373bb41e913ab953 |                    1 | credit_card    |                      8 |          107.78 |\n",
            "+----------------------------------+----------------------+----------------+------------------------+-----------------+\n",
            "| 42fdf880ba16b47b59251dd489d4441a |                    1 | credit_card    |                      2 |          128.45 |\n",
            "+----------------------------------+----------------------+----------------+------------------------+-----------------+\n",
            "\n",
            "Data Gabungan Sebelum Pembersihan\n",
            "\n",
            "+----------------------------------+----------------------------------+----------------------------+-----------------------+------------------+----------------------------------+----------------+----------------------------+---------------------+--------------------------------+---------------------------------+---------------------------------+----------------------+----------------+------------------------+-----------------+\n",
            "| customer_id                      | customer_unique_id               |   customer_zip_code_prefix | customer_city         | customer_state   | order_id                         | order_status   | order_purchase_timestamp   | order_approved_at   | order_delivered_carrier_date   | order_delivered_customer_date   | order_estimated_delivery_date   |   payment_sequential | payment_type   |   payment_installments |   payment_value |\n",
            "+==================================+==================================+============================+=======================+==================+==================================+================+============================+=====================+================================+=================================+=================================+======================+================+========================+=================+\n",
            "| 06b8999e2fba1a1fbc88172c00ba8bc7 | 861eff4711a542e4b93843c6dd7febb0 |                      14409 | franca                | SP               | 00e7ee1b050b8499577073aeb2a297a1 | delivered      | 2017-05-16 15:05:35        | 2017-05-16 15:22:12 | 2017-05-23 10:47:57            | 2017-05-25 10:35:35             | 2017-06-05 00:00:00             |                    1 | credit_card    |                      2 |          146.87 |\n",
            "+----------------------------------+----------------------------------+----------------------------+-----------------------+------------------+----------------------------------+----------------+----------------------------+---------------------+--------------------------------+---------------------------------+---------------------------------+----------------------+----------------+------------------------+-----------------+\n",
            "| 18955e83d337fd6b2def6b18a428ac77 | 290c77bc529b7ac935b93aa66c333dc3 |                       9790 | sao bernardo do campo | SP               | 29150127e6685892b6eab3eec79f59c7 | delivered      | 2018-01-12 20:48:24        | 2018-01-12 20:58:32 | 2018-01-15 17:14:59            | 2018-01-29 12:41:19             | 2018-02-06 00:00:00             |                    1 | credit_card    |                      8 |          335.48 |\n",
            "+----------------------------------+----------------------------------+----------------------------+-----------------------+------------------+----------------------------------+----------------+----------------------------+---------------------+--------------------------------+---------------------------------+---------------------------------+----------------------+----------------+------------------------+-----------------+\n",
            "| 4e7b3e00288586ebd08712fdd0374a03 | 060e732b5b29e8181a18229c7b0b2b5e |                       1151 | sao paulo             | SP               | b2059ed67ce144a36e2aa97d2c9e9ad2 | delivered      | 2018-05-19 16:07:45        | 2018-05-20 16:19:10 | 2018-06-11 14:31:00            | 2018-06-14 17:58:51             | 2018-06-13 00:00:00             |                    1 | credit_card    |                      7 |          157.73 |\n",
            "+----------------------------------+----------------------------------+----------------------------+-----------------------+------------------+----------------------------------+----------------+----------------------------+---------------------+--------------------------------+---------------------------------+---------------------------------+----------------------+----------------+------------------------+-----------------+\n",
            "| b2b6027bc5c5109e529d4dc6358b12c3 | 259dac757896d24d7702b9acbbff3f3c |                       8775 | mogi das cruzes       | SP               | 951670f92359f4fe4a63112aa7306eba | delivered      | 2018-03-13 16:06:38        | 2018-03-13 17:29:19 | 2018-03-27 23:22:42            | 2018-03-28 16:04:25             | 2018-04-10 00:00:00             |                    1 | credit_card    |                      1 |          173.3  |\n",
            "+----------------------------------+----------------------------------+----------------------------+-----------------------+------------------+----------------------------------+----------------+----------------------------+---------------------+--------------------------------+---------------------------------+---------------------------------+----------------------+----------------+------------------------+-----------------+\n",
            "| 4f2d8ab171c80ec8364f7c12e35b23ad | 345ecd01c38d18a9036ed96c73b8d066 |                      13056 | campinas              | SP               | 6b7d50bd145f6fc7f33cebabd7e49d0f | delivered      | 2018-07-29 09:51:30        | 2018-07-29 10:10:09 | 2018-07-30 15:16:00            | 2018-08-09 20:55:48             | 2018-08-15 00:00:00             |                    1 | credit_card    |                      8 |          252.25 |\n",
            "+----------------------------------+----------------------------------+----------------------------+-----------------------+------------------+----------------------------------+----------------+----------------------------+---------------------+--------------------------------+---------------------------------+---------------------------------+----------------------+----------------+------------------------+-----------------+\n",
            "\n",
            "Jumlah duplikat dalam data: 0\n",
            "\n",
            "Jumlah missing values sebelum pembersihan: 5195\n",
            "\n",
            "Data Gabungan Setelah Pembersihan\n",
            "\n",
            "+----------------------------------+----------------------------------+----------------------------+-----------------------+------------------+----------------------------------+----------------+----------------------------+---------------------+--------------------------------+---------------------------------+---------------------------------+----------------------+----------------+------------------------+-----------------+\n",
            "| customer_id                      | customer_unique_id               |   customer_zip_code_prefix | customer_city         | customer_state   | order_id                         | order_status   | order_purchase_timestamp   | order_approved_at   | order_delivered_carrier_date   | order_delivered_customer_date   | order_estimated_delivery_date   |   payment_sequential | payment_type   |   payment_installments |   payment_value |\n",
            "+==================================+==================================+============================+=======================+==================+==================================+================+============================+=====================+================================+=================================+=================================+======================+================+========================+=================+\n",
            "| 06b8999e2fba1a1fbc88172c00ba8bc7 | 861eff4711a542e4b93843c6dd7febb0 |                      14409 | franca                | SP               | 00e7ee1b050b8499577073aeb2a297a1 | delivered      | 2017-05-16 15:05:35        | 2017-05-16 15:22:12 | 2017-05-23 10:47:57            | 2017-05-25 10:35:35             | 2017-06-05 00:00:00             |                    1 | credit_card    |                      2 |          146.87 |\n",
            "+----------------------------------+----------------------------------+----------------------------+-----------------------+------------------+----------------------------------+----------------+----------------------------+---------------------+--------------------------------+---------------------------------+---------------------------------+----------------------+----------------+------------------------+-----------------+\n",
            "| 18955e83d337fd6b2def6b18a428ac77 | 290c77bc529b7ac935b93aa66c333dc3 |                       9790 | sao bernardo do campo | SP               | 29150127e6685892b6eab3eec79f59c7 | delivered      | 2018-01-12 20:48:24        | 2018-01-12 20:58:32 | 2018-01-15 17:14:59            | 2018-01-29 12:41:19             | 2018-02-06 00:00:00             |                    1 | credit_card    |                      8 |          335.48 |\n",
            "+----------------------------------+----------------------------------+----------------------------+-----------------------+------------------+----------------------------------+----------------+----------------------------+---------------------+--------------------------------+---------------------------------+---------------------------------+----------------------+----------------+------------------------+-----------------+\n",
            "| 4e7b3e00288586ebd08712fdd0374a03 | 060e732b5b29e8181a18229c7b0b2b5e |                       1151 | sao paulo             | SP               | b2059ed67ce144a36e2aa97d2c9e9ad2 | delivered      | 2018-05-19 16:07:45        | 2018-05-20 16:19:10 | 2018-06-11 14:31:00            | 2018-06-14 17:58:51             | 2018-06-13 00:00:00             |                    1 | credit_card    |                      7 |          157.73 |\n",
            "+----------------------------------+----------------------------------+----------------------------+-----------------------+------------------+----------------------------------+----------------+----------------------------+---------------------+--------------------------------+---------------------------------+---------------------------------+----------------------+----------------+------------------------+-----------------+\n",
            "| b2b6027bc5c5109e529d4dc6358b12c3 | 259dac757896d24d7702b9acbbff3f3c |                       8775 | mogi das cruzes       | SP               | 951670f92359f4fe4a63112aa7306eba | delivered      | 2018-03-13 16:06:38        | 2018-03-13 17:29:19 | 2018-03-27 23:22:42            | 2018-03-28 16:04:25             | 2018-04-10 00:00:00             |                    1 | credit_card    |                      1 |          173.3  |\n",
            "+----------------------------------+----------------------------------+----------------------------+-----------------------+------------------+----------------------------------+----------------+----------------------------+---------------------+--------------------------------+---------------------------------+---------------------------------+----------------------+----------------+------------------------+-----------------+\n",
            "| 4f2d8ab171c80ec8364f7c12e35b23ad | 345ecd01c38d18a9036ed96c73b8d066 |                      13056 | campinas              | SP               | 6b7d50bd145f6fc7f33cebabd7e49d0f | delivered      | 2018-07-29 09:51:30        | 2018-07-29 10:10:09 | 2018-07-30 15:16:00            | 2018-08-09 20:55:48             | 2018-08-15 00:00:00             |                    1 | credit_card    |                      8 |          252.25 |\n",
            "+----------------------------------+----------------------------------+----------------------------+-----------------------+------------------+----------------------------------+----------------+----------------------------+---------------------+--------------------------------+---------------------------------+---------------------------------+----------------------+----------------+------------------------+-----------------+\n",
            "\n",
            "Jumlah missing values setelah pembersihan: 0\n"
          ]
        }
      ]
    },
    {
      "cell_type": "markdown",
      "source": [
        "### CLEANING DATA"
      ],
      "metadata": {
        "id": "klj5GMWsUzp9"
      }
    },
    {
      "cell_type": "code",
      "source": [
        "# Pembersihan Data\n",
        "print(\"Data Gabungan Sebelum Pembersihan:\")\n",
        "print(tabulate(merged_data.head(), headers='keys', tablefmt='grid', showindex=False))\n",
        "\n",
        "# 1. Menghapus duplikat\n",
        "duplicates_count = merged_data.duplicated().sum()\n",
        "print(f\"\\nJumlah duplikat sebelum pembersihan: {duplicates_count}\")\n",
        "\n",
        "merged_data = merged_data.drop_duplicates()\n",
        "\n",
        "# Print setelah menghapus duplikat\n",
        "print(f\"Jumlah duplikat setelah pembersihan: {merged_data.duplicated().sum()}\")\n",
        "\n",
        "# 2. Menghapus missing values\n",
        "missing_values_count = merged_data.isnull().sum().sum()\n",
        "print(f\"\\nJumlah missing values sebelum pembersihan: {missing_values_count}\")\n",
        "\n",
        "merged_data = merged_data.dropna()\n",
        "\n",
        "# Print setelah menghapus missing values\n",
        "print(f\"Jumlah missing values setelah pembersihan: {merged_data.isnull().sum().sum()}\")\n",
        "\n",
        "# 3. Menghapus outlier pada payment_value\n",
        "Q1 = merged_data['payment_value'].quantile(0.25)\n",
        "Q3 = merged_data['payment_value'].quantile(0.75)\n",
        "IQR = Q3 - Q1\n",
        "\n",
        "print(f\"\\nQ1: {Q1}, Q3: {Q3}, IQR: {IQR}\")\n",
        "\n",
        "# Menghapus outlier\n",
        "merged_data = merged_data[(merged_data['payment_value'] >= Q1 - 1.5 * IQR) &\n",
        "                           (merged_data['payment_value'] <= Q3 + 1.5 * IQR)]\n",
        "\n",
        "# Print setelah menghapus outlier\n",
        "print(f\"Jumlah data setelah menghapus outlier: {len(merged_data)}\")\n",
        "print(\"Data Gabungan Setelah Pembersihan:\")\n",
        "print(tabulate(merged_data.head(), headers='keys', tablefmt='grid', showindex=False))"
      ],
      "metadata": {
        "id": "oDOXfLenU4mc",
        "colab": {
          "base_uri": "https://localhost:8080/"
        },
        "outputId": "976cbde5-b402-4fd7-a55a-e1eba6c4f672"
      },
      "execution_count": null,
      "outputs": [
        {
          "output_type": "stream",
          "name": "stdout",
          "text": [
            "Data Gabungan Sebelum Pembersihan:\n",
            "+----------------------------------+----------------------------------+----------------------------+-----------------+------------------+----------------------------------+----------------+----------------------------+---------------------+--------------------------------+---------------------------------+---------------------------------+----------------------+----------------+------------------------+-----------------+\n",
            "| customer_id                      | customer_unique_id               |   customer_zip_code_prefix | customer_city   | customer_state   | order_id                         | order_status   | order_purchase_timestamp   | order_approved_at   | order_delivered_carrier_date   | order_delivered_customer_date   | order_estimated_delivery_date   |   payment_sequential | payment_type   |   payment_installments |   payment_value |\n",
            "+==================================+==================================+============================+=================+==================+==================================+================+============================+=====================+================================+=================================+=================================+======================+================+========================+=================+\n",
            "| 06b8999e2fba1a1fbc88172c00ba8bc7 | 861eff4711a542e4b93843c6dd7febb0 |                      14409 | franca          | SP               | 00e7ee1b050b8499577073aeb2a297a1 | delivered      | 2017-05-16 15:05:35        | 2017-05-16 15:22:12 | 2017-05-23 10:47:57            | 2017-05-25 10:35:35             | 2017-06-05 00:00:00             |                    1 | credit_card    |                      2 |          146.87 |\n",
            "+----------------------------------+----------------------------------+----------------------------+-----------------+------------------+----------------------------------+----------------+----------------------------+---------------------+--------------------------------+---------------------------------+---------------------------------+----------------------+----------------+------------------------+-----------------+\n",
            "| 4e7b3e00288586ebd08712fdd0374a03 | 060e732b5b29e8181a18229c7b0b2b5e |                       1151 | sao paulo       | SP               | b2059ed67ce144a36e2aa97d2c9e9ad2 | delivered      | 2018-05-19 16:07:45        | 2018-05-20 16:19:10 | 2018-06-11 14:31:00            | 2018-06-14 17:58:51             | 2018-06-13 00:00:00             |                    1 | credit_card    |                      7 |          157.73 |\n",
            "+----------------------------------+----------------------------------+----------------------------+-----------------+------------------+----------------------------------+----------------+----------------------------+---------------------+--------------------------------+---------------------------------+---------------------------------+----------------------+----------------+------------------------+-----------------+\n",
            "| b2b6027bc5c5109e529d4dc6358b12c3 | 259dac757896d24d7702b9acbbff3f3c |                       8775 | mogi das cruzes | SP               | 951670f92359f4fe4a63112aa7306eba | delivered      | 2018-03-13 16:06:38        | 2018-03-13 17:29:19 | 2018-03-27 23:22:42            | 2018-03-28 16:04:25             | 2018-04-10 00:00:00             |                    1 | credit_card    |                      1 |          173.3  |\n",
            "+----------------------------------+----------------------------------+----------------------------+-----------------+------------------+----------------------------------+----------------+----------------------------+---------------------+--------------------------------+---------------------------------+---------------------------------+----------------------+----------------+------------------------+-----------------+\n",
            "| 4f2d8ab171c80ec8364f7c12e35b23ad | 345ecd01c38d18a9036ed96c73b8d066 |                      13056 | campinas        | SP               | 6b7d50bd145f6fc7f33cebabd7e49d0f | delivered      | 2018-07-29 09:51:30        | 2018-07-29 10:10:09 | 2018-07-30 15:16:00            | 2018-08-09 20:55:48             | 2018-08-15 00:00:00             |                    1 | credit_card    |                      8 |          252.25 |\n",
            "+----------------------------------+----------------------------------+----------------------------+-----------------+------------------+----------------------------------+----------------+----------------------------+---------------------+--------------------------------+---------------------------------+---------------------------------+----------------------+----------------+------------------------+-----------------+\n",
            "| 879864dab9bc3047522c92c82e1212b8 | 4c93744516667ad3b8f1fb645a3116a4 |                      89254 | jaragua do sul  | SC               | 5741ea1f91b5fbab2bd2dc653a5b5099 | delivered      | 2017-09-14 18:14:31        | 2017-09-14 18:25:11 | 2017-09-18 21:27:40            | 2017-09-28 17:32:43             | 2017-10-04 00:00:00             |                    1 | debit_card     |                      1 |          282.21 |\n",
            "+----------------------------------+----------------------------------+----------------------------+-----------------+------------------+----------------------------------+----------------+----------------------------+---------------------+--------------------------------+---------------------------------+---------------------------------+----------------------+----------------+------------------------+-----------------+\n",
            "\n",
            "Jumlah duplikat sebelum pembersihan: 0\n",
            "Jumlah duplikat setelah pembersihan: 0\n",
            "\n",
            "Jumlah missing values sebelum pembersihan: 0\n",
            "Jumlah missing values setelah pembersihan: 0\n",
            "\n",
            "Q1: 53.01, Q3: 144.65, IQR: 91.64000000000001\n",
            "Jumlah data setelah menghapus outlier: 89947\n",
            "Data Gabungan Setelah Pembersihan:\n",
            "+----------------------------------+----------------------------------+----------------------------+-----------------+------------------+----------------------------------+----------------+----------------------------+---------------------+--------------------------------+---------------------------------+---------------------------------+----------------------+----------------+------------------------+-----------------+\n",
            "| customer_id                      | customer_unique_id               |   customer_zip_code_prefix | customer_city   | customer_state   | order_id                         | order_status   | order_purchase_timestamp   | order_approved_at   | order_delivered_carrier_date   | order_delivered_customer_date   | order_estimated_delivery_date   |   payment_sequential | payment_type   |   payment_installments |   payment_value |\n",
            "+==================================+==================================+============================+=================+==================+==================================+================+============================+=====================+================================+=================================+=================================+======================+================+========================+=================+\n",
            "| 06b8999e2fba1a1fbc88172c00ba8bc7 | 861eff4711a542e4b93843c6dd7febb0 |                      14409 | franca          | SP               | 00e7ee1b050b8499577073aeb2a297a1 | delivered      | 2017-05-16 15:05:35        | 2017-05-16 15:22:12 | 2017-05-23 10:47:57            | 2017-05-25 10:35:35             | 2017-06-05 00:00:00             |                    1 | credit_card    |                      2 |          146.87 |\n",
            "+----------------------------------+----------------------------------+----------------------------+-----------------+------------------+----------------------------------+----------------+----------------------------+---------------------+--------------------------------+---------------------------------+---------------------------------+----------------------+----------------+------------------------+-----------------+\n",
            "| 4e7b3e00288586ebd08712fdd0374a03 | 060e732b5b29e8181a18229c7b0b2b5e |                       1151 | sao paulo       | SP               | b2059ed67ce144a36e2aa97d2c9e9ad2 | delivered      | 2018-05-19 16:07:45        | 2018-05-20 16:19:10 | 2018-06-11 14:31:00            | 2018-06-14 17:58:51             | 2018-06-13 00:00:00             |                    1 | credit_card    |                      7 |          157.73 |\n",
            "+----------------------------------+----------------------------------+----------------------------+-----------------+------------------+----------------------------------+----------------+----------------------------+---------------------+--------------------------------+---------------------------------+---------------------------------+----------------------+----------------+------------------------+-----------------+\n",
            "| b2b6027bc5c5109e529d4dc6358b12c3 | 259dac757896d24d7702b9acbbff3f3c |                       8775 | mogi das cruzes | SP               | 951670f92359f4fe4a63112aa7306eba | delivered      | 2018-03-13 16:06:38        | 2018-03-13 17:29:19 | 2018-03-27 23:22:42            | 2018-03-28 16:04:25             | 2018-04-10 00:00:00             |                    1 | credit_card    |                      1 |          173.3  |\n",
            "+----------------------------------+----------------------------------+----------------------------+-----------------+------------------+----------------------------------+----------------+----------------------------+---------------------+--------------------------------+---------------------------------+---------------------------------+----------------------+----------------+------------------------+-----------------+\n",
            "| 4f2d8ab171c80ec8364f7c12e35b23ad | 345ecd01c38d18a9036ed96c73b8d066 |                      13056 | campinas        | SP               | 6b7d50bd145f6fc7f33cebabd7e49d0f | delivered      | 2018-07-29 09:51:30        | 2018-07-29 10:10:09 | 2018-07-30 15:16:00            | 2018-08-09 20:55:48             | 2018-08-15 00:00:00             |                    1 | credit_card    |                      8 |          252.25 |\n",
            "+----------------------------------+----------------------------------+----------------------------+-----------------+------------------+----------------------------------+----------------+----------------------------+---------------------+--------------------------------+---------------------------------+---------------------------------+----------------------+----------------+------------------------+-----------------+\n",
            "| fd826e7cf63160e536e0908c76c3f441 | addec96d2e059c80c30fe6871d30d177 |                       4534 | sao paulo       | SP               | 36e694cf4cbc2a4803200c35e84abdc4 | delivered      | 2018-02-19 14:38:35        | 2018-02-19 14:50:37 | 2018-02-20 00:03:39            | 2018-02-20 16:25:51             | 2018-03-05 00:00:00             |                    1 | credit_card    |                      1 |           22.77 |\n",
            "+----------------------------------+----------------------------------+----------------------------+-----------------+------------------+----------------------------------+----------------+----------------------------+---------------------+--------------------------------+---------------------------------+---------------------------------+----------------------+----------------+------------------------+-----------------+\n"
          ]
        }
      ]
    },
    {
      "cell_type": "markdown",
      "source": [
        "Duplikasi dihapus.\n",
        "Outlier pada payment_value dihapus menggunakan Interquartile Range (IQR)."
      ],
      "metadata": {
        "id": "H_-Zh2uibaN3"
      }
    },
    {
      "cell_type": "markdown",
      "source": [
        "**Insight:**\n",
        "- Data dibatasi pada rentang waktu tertentu dari tanggal paling awal hingga tanggal paling akhir dalam dataset.\n",
        "- Hal ini memastikan bahwa analisis dilakukan hanya pada data yang relevan dalam rentang waktu tersebut."
      ],
      "metadata": {
        "id": "Q_5ejIqckiSP"
      }
    },
    {
      "cell_type": "markdown",
      "metadata": {
        "id": "gp-Y6wU38DC1"
      },
      "source": [
        "## Exploratory Data Analysis (EDA)"
      ]
    },
    {
      "cell_type": "markdown",
      "metadata": {
        "id": "MW7WF2kr8DC1"
      },
      "source": [
        "### Explore ..."
      ]
    },
    {
      "cell_type": "markdown",
      "source": [
        "### Tren Penjualan Harian:"
      ],
      "metadata": {
        "id": "TVA6abr1aKF9"
      }
    },
    {
      "cell_type": "markdown",
      "metadata": {
        "id": "zsyZjqak8DC2"
      },
      "source": [
        "## Visualization & Explanatory Analysis"
      ]
    },
    {
      "cell_type": "markdown",
      "metadata": {
        "id": "HZxOiQ6n8DC2"
      },
      "source": [
        "### Pertanyaan 1:Bagaimana tren penjualan harian selama periode yang dipilih?\n"
      ]
    },
    {
      "cell_type": "code",
      "execution_count": null,
      "metadata": {
        "id": "1swJUdAD8DC2",
        "colab": {
          "base_uri": "https://localhost:8080/",
          "height": 1000
        },
        "outputId": "fb9c981d-2dce-4c2e-f5a7-a2260886c645"
      },
      "outputs": [
        {
          "output_type": "stream",
          "name": "stderr",
          "text": [
            "2024-10-09 13:42:45.771 WARNING streamlit.runtime.scriptrunner_utils.script_run_context: Thread 'MainThread': missing ScriptRunContext! This warning can be ignored when running in bare mode.\n",
            "2024-10-09 13:42:45.914 \n",
            "  \u001b[33m\u001b[1mWarning:\u001b[0m to view this Streamlit app on a browser, run it with the following\n",
            "  command:\n",
            "\n",
            "    streamlit run /usr/local/lib/python3.10/dist-packages/colab_kernel_launcher.py [ARGUMENTS]\n",
            "2024-10-09 13:42:45.917 Thread 'MainThread': missing ScriptRunContext! This warning can be ignored when running in bare mode.\n",
            "2024-10-09 13:42:45.922 Thread 'MainThread': missing ScriptRunContext! This warning can be ignored when running in bare mode.\n",
            "2024-10-09 13:42:45.923 Thread 'MainThread': missing ScriptRunContext! This warning can be ignored when running in bare mode.\n",
            "2024-10-09 13:42:46.079 Thread 'MainThread': missing ScriptRunContext! This warning can be ignored when running in bare mode.\n",
            "2024-10-09 13:42:46.081 Thread 'MainThread': missing ScriptRunContext! This warning can be ignored when running in bare mode.\n",
            "2024-10-09 13:42:46.404 Thread 'MainThread': missing ScriptRunContext! This warning can be ignored when running in bare mode.\n",
            "2024-10-09 13:42:46.406 Thread 'MainThread': missing ScriptRunContext! This warning can be ignored when running in bare mode.\n",
            "2024-10-09 13:42:46.411 Thread 'MainThread': missing ScriptRunContext! This warning can be ignored when running in bare mode.\n",
            "2024-10-09 13:42:46.413 Thread 'MainThread': missing ScriptRunContext! This warning can be ignored when running in bare mode.\n",
            "2024-10-09 13:42:47.120 Thread 'MainThread': missing ScriptRunContext! This warning can be ignored when running in bare mode.\n",
            "2024-10-09 13:42:47.122 Thread 'MainThread': missing ScriptRunContext! This warning can be ignored when running in bare mode.\n",
            "2024-10-09 13:42:47.127 Thread 'MainThread': missing ScriptRunContext! This warning can be ignored when running in bare mode.\n",
            "2024-10-09 13:42:47.128 Thread 'MainThread': missing ScriptRunContext! This warning can be ignored when running in bare mode.\n",
            "2024-10-09 13:42:47.134 Thread 'MainThread': missing ScriptRunContext! This warning can be ignored when running in bare mode.\n",
            "2024-10-09 13:42:47.137 Thread 'MainThread': missing ScriptRunContext! This warning can be ignored when running in bare mode.\n",
            "2024-10-09 13:42:47.138 Thread 'MainThread': missing ScriptRunContext! This warning can be ignored when running in bare mode.\n",
            "2024-10-09 13:42:47.143 Thread 'MainThread': missing ScriptRunContext! This warning can be ignored when running in bare mode.\n",
            "2024-10-09 13:42:47.144 Thread 'MainThread': missing ScriptRunContext! This warning can be ignored when running in bare mode.\n",
            "2024-10-09 13:42:47.145 Thread 'MainThread': missing ScriptRunContext! This warning can be ignored when running in bare mode.\n",
            "2024-10-09 13:42:47.146 Thread 'MainThread': missing ScriptRunContext! This warning can be ignored when running in bare mode.\n",
            "2024-10-09 13:42:47.147 Thread 'MainThread': missing ScriptRunContext! This warning can be ignored when running in bare mode.\n",
            "2024-10-09 13:42:47.149 Thread 'MainThread': missing ScriptRunContext! This warning can be ignored when running in bare mode.\n",
            "2024-10-09 13:42:47.154 Thread 'MainThread': missing ScriptRunContext! This warning can be ignored when running in bare mode.\n",
            "2024-10-09 13:42:47.285 Thread 'MainThread': missing ScriptRunContext! This warning can be ignored when running in bare mode.\n",
            "2024-10-09 13:42:47.287 Thread 'MainThread': missing ScriptRunContext! This warning can be ignored when running in bare mode.\n",
            "2024-10-09 13:42:47.558 Thread 'MainThread': missing ScriptRunContext! This warning can be ignored when running in bare mode.\n",
            "2024-10-09 13:42:50.713 Thread 'MainThread': missing ScriptRunContext! This warning can be ignored when running in bare mode.\n",
            "2024-10-09 13:42:50.716 Thread 'MainThread': missing ScriptRunContext! This warning can be ignored when running in bare mode.\n"
          ]
        },
        {
          "output_type": "display_data",
          "data": {
            "text/plain": [
              "<Figure size 1200x600 with 1 Axes>"
            ],
            "image/png": "[encoded data removed]"
          },
          "metadata": {}
        }
      ],
      "source": [
        " # Memuat data\n",
        "data = load_and_clean_data()\n",
        "\n",
        "if data is not None:\n",
        "    # Judul aplikasi\n",
        "    st.title(\"Dashboard Analisis E-commerce\")\n",
        "\n",
        "    # Sidebar untuk filter tanggal\n",
        "    st.sidebar.title(\"Filter Data\")\n",
        "    min_date = data['order_purchase_timestamp'].min().date()\n",
        "    max_date = data['order_purchase_timestamp'].max().date()\n",
        "\n",
        "    start_date = st.sidebar.date_input(\"Pilih Tanggal Mulai\", min_date)\n",
        "    end_date = st.sidebar.date_input(\"Pilih Tanggal Akhir\", max_date)\n",
        "\n",
        "    # Validasi input tanggal\n",
        "    if start_date > end_date:\n",
        "        st.sidebar.error(\"Tanggal mulai tidak boleh lebih besar dari tanggal akhir.\")\n",
        "    else:\n",
        "        # Filter data berdasarkan rentang tanggal yang dipilih\n",
        "        filtered_data = data[(data['order_purchase_timestamp'].dt.date >= start_date) &\n",
        "                             (data['order_purchase_timestamp'].dt.date <= end_date)]\n",
        "\n",
        "        if filtered_data.empty:\n",
        "            st.warning(\"Tidak ada data yang sesuai dengan rentang tanggal yang dipilih.\")\n",
        "        else:\n",
        "            # Pertanyaan 1: Bagaimana tren penjualan harian selama periode yang dipilih?\n",
        "            st.subheader(\"Pertanyaan 1: Bagaimana tren penjualan harian selama periode yang dipilih?\")\n",
        "            daily_sales = filtered_data.groupby('order_purchase_timestamp')['payment_value'].sum().reset_index()\n",
        "\n",
        "            fig, ax = plt.subplots(figsize=(12, 6))\n",
        "            ax.plot(daily_sales['order_purchase_timestamp'], daily_sales['payment_value'], marker='o')\n",
        "            ax.set_xlabel('Tanggal')\n",
        "            ax.set_ylabel('Total Penjualan')\n",
        "            ax.set_title('Tren Penjualan Harian')\n",
        "            plt.xticks(rotation=45)\n",
        "            plt.tight_layout()\n",
        "            st.pyplot(fig)\n",
        "\n",
        "else:\n",
        "    st.error(\"Tidak dapat memuat data. Silakan periksa file sumber data Anda.\")"
      ]
    },
    {
      "cell_type": "markdown",
      "source": [
        "dengan grafik tren penjualan harian.\n",
        "Grafik garis (line chart) menunjukkan fluktuasi penjualan dari waktu ke waktu, mengidentifikasi hari-hari di mana penjualan mencapai puncak."
      ],
      "metadata": {
        "id": "QUlImk5_agqg"
      }
    },
    {
      "cell_type": "markdown",
      "metadata": {
        "id": "DgHI7CiU8DC2"
      },
      "source": [
        "### Pertanyaan 2:Apa metode pembayaran yang paling populer dan bagaimana distribusinya?"
      ]
    },
    {
      "cell_type": "code",
      "execution_count": null,
      "metadata": {
        "id": "Go0lCsvO8DC2",
        "colab": {
          "base_uri": "https://localhost:8080/",
          "height": 798
        },
        "outputId": "608bedf8-ab88-4872-d140-d86f2c3c5d5b"
      },
      "outputs": [
        {
          "output_type": "stream",
          "name": "stderr",
          "text": [
            "2024-10-09 13:49:04.829 Thread 'MainThread': missing ScriptRunContext! This warning can be ignored when running in bare mode.\n",
            "2024-10-09 13:49:04.837 Thread 'MainThread': missing ScriptRunContext! This warning can be ignored when running in bare mode.\n",
            "2024-10-09 13:49:04.842 Thread 'MainThread': missing ScriptRunContext! This warning can be ignored when running in bare mode.\n",
            "2024-10-09 13:49:04.845 Thread 'MainThread': missing ScriptRunContext! This warning can be ignored when running in bare mode.\n"
          ]
        },
        {
          "output_type": "stream",
          "name": "stdout",
          "text": [
            "Distribusi Metode Pembayaran:\n",
            "payment_type\n",
            "credit_card    68277\n",
            "boleto         17939\n",
            "voucher         5422\n",
            "debit_card      1406\n",
            "Name: count, dtype: int64\n"
          ]
        },
        {
          "output_type": "display_data",
          "data": {
            "text/plain": [
              "<Figure size 1000x600 with 1 Axes>"
            ],
            "image/png": "[encoded data removed]"
          },
          "metadata": {}
        }
      ],
      "source": [
        "# Jawaban untuk pertanyaan 2: Menampilkan distribusi metode pembayaran\n",
        "st.write(\"**Jawaban 2: Metode Pembayaran Populer**\")\n",
        "\n",
        "# Menghitung distribusi metode pembayaran\n",
        "payment_distribution = filtered_data['payment_type'].value_counts()\n",
        "\n",
        "# Print output distribusi metode pembayaran\n",
        "print(\"Distribusi Metode Pembayaran:\")\n",
        "print(payment_distribution)\n",
        "\n",
        "# Membuat bar chart untuk visualisasi distribusi metode pembayaran dengan warna biru\n",
        "fig, ax = plt.subplots(figsize=(10, 6))  # Mengatur ukuran figure\n",
        "sns.barplot(x=payment_distribution.index, y=payment_distribution.values, ax=ax, color='blue')  # Menggunakan warna biru\n",
        "ax.set_xlabel('Metode Pembayaran')  # Label sumbu X\n",
        "ax.set_ylabel('Jumlah Pesanan')  # Label sumbu Y\n",
        "ax.set_title('Distribusi Metode Pembayaran')  # Judul grafik\n",
        "plt.xticks(rotation=45)  # Memutar label pada sumbu X agar lebih mudah dibaca\n",
        "plt.tight_layout()  # Mengatur layout agar tidak ada yang terpotong\n",
        "plt.show()  # Menampilkan plot\n",
        "\n"
      ]
    },
    {
      "cell_type": "markdown",
      "source": [
        "dengan grafik batang metode pembayaran.\n",
        "Dari grafik batang (bar chart), kita dapat melihat metode pembayaran yang paling sering digunakan oleh pelanggan."
      ],
      "metadata": {
        "id": "eCsIe--uakSN"
      }
    },
    {
      "cell_type": "markdown",
      "source": [
        "**Insight:**\n",
        "- Kita bisa melihat metode pembayaran yang paling sering digunakan.\n",
        "- Ini membantu mengetahui preferensi pelanggan terkait cara pembayaran.\n"
      ],
      "metadata": {
        "id": "_0-36BDLklRg"
      }
    },
    {
      "cell_type": "markdown",
      "source": [
        "## Analisis Lanjutan (Opsional)"
      ],
      "metadata": {
        "id": "9y4VUsmcYNZ5"
      }
    },
    {
      "cell_type": "markdown",
      "metadata": {
        "id": "_WeHlCeX8DC2"
      },
      "source": [
        "## Conclusion"
      ]
    },
    {
      "cell_type": "markdown",
      "metadata": {
        "id": "ZTcyR48Y8DC2"
      },
      "source": [
        "- Conclution pertanyaan 1:Dari hasil analisis, terlihat adanya fluktuasi dalam tren penjualan harian. Puncak penjualan dapat diamati pada beberapa hari tertentu.\n",
        "- Conclution pertanyaan 2:Metode pembayaran tertentu lebih sering digunakan dibanding metode lainnya, menunjukkan preferensi pelanggan terhadap metode pembayaran tertentu."
      ]
    }
  ],
  "metadata": {
    "kernelspec": {
      "display_name": "Python 3",
      "language": "python",
      "name": "python3"
    },
    "language_info": {
      "name": "python",
      "version": "3.8.0 (tags/v3.8.0:fa919fd, Oct 14 2019, 19:21:23) [MSC v.1916 32 bit (Intel)]"
    },
    "orig_nbformat": 4,
    "vscode": {
      "interpreter": {
        "hash": "972b3bf27e332e87b5379f2791f6ef9dfc79c71018c370b0d7423235e20fe4d7"
      }
    },
    "colab": {
      "provenance": [],
      "include_colab_link": true
    }
  },
  "nbformat": 4,
  "nbformat_minor": 0
}